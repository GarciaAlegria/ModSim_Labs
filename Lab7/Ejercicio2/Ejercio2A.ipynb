{
 "cells": [
  {
   "cell_type": "code",
   "execution_count": 2,
   "metadata": {},
   "outputs": [
    {
     "ename": "SyntaxError",
     "evalue": "invalid decimal literal (603967779.py, line 11)",
     "output_type": "error",
     "traceback": [
      "\u001b[1;36m  Cell \u001b[1;32mIn[2], line 11\u001b[1;36m\u001b[0m\n\u001b[1;33m    100X[1,1] + 150X[1,2] + 200X[1,3] + 140X[1,4] + 35X[1,5] +\u001b[0m\n\u001b[1;37m      ^\u001b[0m\n\u001b[1;31mSyntaxError\u001b[0m\u001b[1;31m:\u001b[0m invalid decimal literal\n"
     ]
    }
   ],
   "source": [
    "using JuMP, GLPK\n",
    "\n",
    "# Definir el modelo\n",
    "model = Model(GLPK.Optimizer)\n",
    "\n",
    "# Definir las variables\n",
    "@variable(model, X[1:3, 1:5] >= 0)\n",
    "\n",
    "# Definir la función objetivo\n",
    "@objective(model, Min, 25 * (\n",
    "    100X[1,1] + 150X[1,2] + 200X[1,3] + 140X[1,4] + 35X[1,5] + \n",
    "    50X[2,1] + 70X[2,2] + 60X[2,3] + 65X[2,4] + 80X[2,5] + \n",
    "    40X[3,1] + 90X[3,2] + 100X[3,3] + 150X[3,4] + 130X[3,5]))\n",
    "\n",
    "# Definir las restricciones de oferta\n",
    "@constraint(model, sum(X[1,j] for j in 1:5) <= 400)\n",
    "@constraint(model, sum(X[2,j] for j in 1:5) <= 200)\n",
    "@constraint(model, sum(X[3,j] for j in 1:5) <= 150)\n",
    "\n",
    "# Definir las restricciones de demanda\n",
    "@constraint(model, X[1,1] + X[2,1] + X[3,1] == 100)\n",
    "@constraint(model, X[1,2] + X[2,2] + X[3,2] == 200)\n",
    "@constraint(model, X[1,3] + X[2,3] + X[3,3] == 150)\n",
    "@constraint(model, X[1,4] + X[2,4] + X[3,4] == 160)\n",
    "@constraint(model, X[1,5] + X[2,5] + X[3,5] == 200) \n",
    "\n",
    "# Resolver el modelo\n",
    "optimize!(model)\n",
    "\n",
    "# Imprimir la solución\n",
    "println(\"Solución óptima:\")\n",
    "for i in 1:3, j in 1:5\n",
    "    println(\"X[$i,$j] = \", value(X[i,j]))\n",
    "end\n",
    "\n",
    "println(\"Costo total de transporte: \", objective_value(model))  "
   ]
  }
 ],
 "metadata": {
  "kernelspec": {
   "display_name": "Python 3",
   "language": "python",
   "name": "python3"
  },
  "language_info": {
   "codemirror_mode": {
    "name": "ipython",
    "version": 3
   },
   "file_extension": ".py",
   "mimetype": "text/x-python",
   "name": "python",
   "nbconvert_exporter": "python",
   "pygments_lexer": "ipython3",
   "version": "3.12.2"
  }
 },
 "nbformat": 4,
 "nbformat_minor": 2
}
