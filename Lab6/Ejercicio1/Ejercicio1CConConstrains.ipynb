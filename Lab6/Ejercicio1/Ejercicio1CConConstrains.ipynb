{
 "cells": [
  {
   "cell_type": "code",
   "execution_count": 127,
   "metadata": {},
   "outputs": [],
   "source": [
    "using JuMP\n",
    "using HiGHS\n",
    "using Ipopt\n",
    "using Optimization\n",
    "using Optim"
   ]
  },
  {
   "cell_type": "code",
   "execution_count": 128,
   "metadata": {},
   "outputs": [
    {
     "data": {
      "text/plain": [
       "A JuMP Model\n",
       "├ solver: none\n",
       "├ objective_sense: FEASIBILITY_SENSE\n",
       "├ num_variables: 0\n",
       "├ num_constraints: 0\n",
       "└ Names registered in the model: none"
      ]
     },
     "execution_count": 128,
     "metadata": {},
     "output_type": "execute_result"
    }
   ],
   "source": [
    "model = Model()"
   ]
  },
  {
   "cell_type": "code",
   "execution_count": 129,
   "metadata": {},
   "outputs": [
    {
     "data": {
      "text/latex": [
       "$ s4 $"
      ],
      "text/plain": [
       "s4"
      ]
     },
     "execution_count": 129,
     "metadata": {},
     "output_type": "execute_result"
    }
   ],
   "source": [
    "@variable(model, x1 >= 0)\n",
    "@variable(model, x2 >= 0)\n",
    "@variable(model, x3 >= 0)\n",
    "@variable(model, x4 >= 0)\n",
    "@variable(model, s1 >= 0)\n",
    "@variable(model, s2 >= 0)\n",
    "@variable(model, s3 >= 0)\n",
    "@variable(model, s4 >= 0)"
   ]
  },
  {
   "cell_type": "code",
   "execution_count": 130,
   "metadata": {},
   "outputs": [
    {
     "data": {
      "text/plain": [
       "A JuMP Model\n",
       "├ solver: none\n",
       "├ objective_sense: FEASIBILITY_SENSE\n",
       "├ num_variables: 8\n",
       "├ num_constraints: 8\n",
       "│ └ VariableRef in MOI.GreaterThan{Float64}: 8\n",
       "└ Names registered in the model\n",
       "  └ :s1, :s2, :s3, :s4, :x1, :x2, :x3, :x4"
      ]
     },
     "execution_count": 130,
     "metadata": {},
     "output_type": "execute_result"
    }
   ],
   "source": [
    "model"
   ]
  },
  {
   "cell_type": "code",
   "execution_count": 131,
   "metadata": {},
   "outputs": [
    {
     "data": {
      "text/latex": [
       "$$ 0.15 x1 + 0.15 x2 + 0.1 x3 + 0.05 x4 \\leq 1000 $$"
      ],
      "text/plain": [
       "0.15 x1 + 0.15 x2 + 0.1 x3 + 0.05 x4 ≤ 1000"
      ]
     },
     "execution_count": 131,
     "metadata": {},
     "output_type": "execute_result"
    }
   ],
   "source": [
    "@constraint(model, 0.30x1 + 0.30x2 + 0.25x3 + 0.15x4 <= 1000)\n",
    "@constraint(model, 0.25x1 + 0.35x2 + 0.30x3 + 0.10x4 <= 1000)\n",
    "@constraint(model, 0.45x1 + 0.50x2 + 0.40x3 + 0.22x4 <= 1000)\n",
    "@constraint(model, 0.15x1 + 0.15x2 + 0.10x3 + 0.05x4 <= 1000)"
   ]
  },
  {
   "cell_type": "code",
   "execution_count": 132,
   "metadata": {},
   "outputs": [
    {
     "data": {
      "text/latex": [
       "$$ x4 + s4 = 500 $$"
      ],
      "text/plain": [
       "x4 + s4 = 500"
      ]
     },
     "execution_count": 132,
     "metadata": {},
     "output_type": "execute_result"
    }
   ],
   "source": [
    "@constraint(model, x2 + s2 == 750)\n",
    "@constraint(model, x1 + s1 == 800)\n",
    "@constraint(model, x3 + s3 == 600)\n",
    "@constraint(model, x4 + s4 == 500)"
   ]
  },
  {
   "cell_type": "code",
   "execution_count": 133,
   "metadata": {},
   "outputs": [
    {
     "data": {
      "text/latex": [
       "$ 30 x1 + 40 x2 + 20 x3 + 10 x4 - 15 s1 - 20 s2 - 10 s3 - 8 s4 $"
      ],
      "text/plain": [
       "30 x1 + 40 x2 + 20 x3 + 10 x4 - 15 s1 - 20 s2 - 10 s3 - 8 s4"
      ]
     },
     "execution_count": 133,
     "metadata": {},
     "output_type": "execute_result"
    }
   ],
   "source": [
    "# @objective(model, Max, 45x1 + 60x2 + 30x3 + 18x4 - 37000)\n",
    "@objective(model, Max, 30x1 + 40x2 + 20x3 + 10x4 - 15s1 - 20s2 - 10s3 - 8s4)"
   ]
  },
  {
   "cell_type": "code",
   "execution_count": 134,
   "metadata": {},
   "outputs": [],
   "source": [
    "set_optimizer(model, HiGHS.Optimizer)"
   ]
  },
  {
   "cell_type": "code",
   "execution_count": 135,
   "metadata": {},
   "outputs": [
    {
     "name": "stdout",
     "output_type": "stream",
     "text": [
      "Running HiGHS 1.7.2 (git hash: 5ce7a2753): Copyright (c) 2024 HiGHS under MIT licence terms\n",
      "Coefficient ranges:\n",
      "  Matrix [5e-02, 1e+00]\n",
      "  Cost   [8e+00, 4e+01]\n",
      "  Bound  [0e+00, 0e+00]\n",
      "  RHS    [5e+02, 1e+03]\n",
      "Presolving model\n",
      "1 rows, 4 cols, 4 nonzeros  0s\n",
      "1 rows, 4 cols, 4 nonzeros  0s\n",
      "Presolve : Reductions: rows 1(-7); columns 4(-4); elements 4(-20)\n",
      "Solving the presolved LP\n",
      "Using EKK dual simplex solver - serial\n",
      "  Iteration        Objective     Infeasibilities num(sum)\n",
      "          0     0.0000000000e+00 Ph1: 0(0) 0s\n",
      "          1    -6.4625000000e+04 Pr: 0(0) 0s\n",
      "Solving the original LP from the solution after postsolve\n",
      "Model   status      : Optimal\n",
      "Simplex   iterations: 1\n",
      "Objective value     :  6.4625000000e+04\n",
      "HiGHS run time      :          0.00\n"
     ]
    }
   ],
   "source": [
    "optimize!(model)"
   ]
  },
  {
   "cell_type": "code",
   "execution_count": 136,
   "metadata": {},
   "outputs": [
    {
     "name": "stdout",
     "output_type": "stream",
     "text": [
      "z = 64625.0"
     ]
    }
   ],
   "source": [
    "print(\"z = \", objective_value(model))"
   ]
  }
 ],
 "metadata": {
  "kernelspec": {
   "display_name": "Julia 1.10.5",
   "language": "julia",
   "name": "julia-1.10"
  },
  "language_info": {
   "file_extension": ".jl",
   "mimetype": "application/julia",
   "name": "julia",
   "version": "1.10.5"
  }
 },
 "nbformat": 4,
 "nbformat_minor": 2
}
