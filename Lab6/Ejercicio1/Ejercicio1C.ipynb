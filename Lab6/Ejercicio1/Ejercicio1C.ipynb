{
 "cells": [
  {
   "cell_type": "code",
   "execution_count": 1,
   "metadata": {},
   "outputs": [],
   "source": [
    "using JuMP\n",
    "using HiGHS\n",
    "using Ipopt\n",
    "using Optimization\n",
    "using Optim"
   ]
  },
  {
   "cell_type": "code",
   "execution_count": 2,
   "metadata": {},
   "outputs": [
    {
     "data": {
      "text/plain": [
       "A JuMP Model\n",
       "├ solver: none\n",
       "├ objective_sense: FEASIBILITY_SENSE\n",
       "├ num_variables: 0\n",
       "├ num_constraints: 0\n",
       "└ Names registered in the model: none"
      ]
     },
     "execution_count": 2,
     "metadata": {},
     "output_type": "execute_result"
    }
   ],
   "source": [
    "model = Model()"
   ]
  },
  {
   "cell_type": "code",
   "execution_count": 3,
   "metadata": {},
   "outputs": [
    {
     "data": {
      "text/latex": [
       "$ x4 $"
      ],
      "text/plain": [
       "x4"
      ]
     },
     "execution_count": 3,
     "metadata": {},
     "output_type": "execute_result"
    }
   ],
   "source": [
    "@variable(model, x1 >= 0)\n",
    "@variable(model, x2 >= 0)\n",
    "@variable(model, x3 >= 0)\n",
    "@variable(model, x4 >= 0)\n",
    "# @variable(model, s5 >= 0)\n",
    "# @variable(model, s6 >= 0)\n",
    "# @variable(model, s7 >= 0)\n",
    "# @variable(model, s8 >= 0)"
   ]
  },
  {
   "cell_type": "code",
   "execution_count": 4,
   "metadata": {},
   "outputs": [
    {
     "data": {
      "text/plain": [
       "A JuMP Model\n",
       "├ solver: none\n",
       "├ objective_sense: FEASIBILITY_SENSE\n",
       "├ num_variables: 4\n",
       "├ num_constraints: 4\n",
       "│ └ VariableRef in MOI.GreaterThan{Float64}: 4\n",
       "└ Names registered in the model\n",
       "  └ :x1, :x2, :x3, :x4"
      ]
     },
     "execution_count": 4,
     "metadata": {},
     "output_type": "execute_result"
    }
   ],
   "source": [
    "model"
   ]
  },
  {
   "cell_type": "code",
   "execution_count": 5,
   "metadata": {},
   "outputs": [
    {
     "data": {
      "text/latex": [
       "$$ 0.15 x1 + 0.15 x2 + 0.1 x3 + 0.05 x4 \\leq 1000 $$"
      ],
      "text/plain": [
       "0.15 x1 + 0.15 x2 + 0.1 x3 + 0.05 x4 ≤ 1000"
      ]
     },
     "execution_count": 5,
     "metadata": {},
     "output_type": "execute_result"
    }
   ],
   "source": [
    "@constraint(model, 0.30x1 + 0.30x2 + 0.25x3 + 0.15x4 <= 1000)\n",
    "@constraint(model, 0.25x1 + 0.35x2 + 0.30x3 + 0.10x4 <= 1000)\n",
    "@constraint(model, 0.45x1 + 0.50x2 + 0.40x3 + 0.22x4 <= 1000)\n",
    "@constraint(model, 0.15x1 + 0.15x2 + 0.10x3 + 0.05x4 <= 1000)"
   ]
  },
  {
   "cell_type": "code",
   "execution_count": 6,
   "metadata": {},
   "outputs": [
    {
     "data": {
      "text/latex": [
       "$ 45 x1 + 60 x2 + 30 x3 + 18 x4 - 37000 $"
      ],
      "text/plain": [
       "45 x1 + 60 x2 + 30 x3 + 18 x4 - 37000"
      ]
     },
     "execution_count": 6,
     "metadata": {},
     "output_type": "execute_result"
    }
   ],
   "source": [
    "@objective(model, Max, 45x1 + 60x2 + 30x3 + 18x4 - 37000)"
   ]
  },
  {
   "cell_type": "code",
   "execution_count": 7,
   "metadata": {},
   "outputs": [],
   "source": [
    "set_optimizer(model, HiGHS.Optimizer)"
   ]
  },
  {
   "cell_type": "code",
   "execution_count": 8,
   "metadata": {},
   "outputs": [
    {
     "name": "stdout",
     "output_type": "stream",
     "text": [
      "Running HiGHS 1.7.2 (git hash: 5ce7a2753): Copyright (c) 2024 HiGHS under MIT licence terms\n",
      "Coefficient ranges:\n",
      "  Matrix [5e-02, 5e-01]\n",
      "  Cost   [2e+01, 6e+01]\n",
      "  Bound  [0e+00, 0e+00]\n",
      "  RHS    [1e+03, 1e+03]\n",
      "Presolving model\n",
      "4 rows, 4 cols, 16 nonzeros  0s\n",
      "4 rows, 4 cols, 16 nonzeros  0s\n",
      "Presolve : Reductions: rows 4(-0); columns 4(-0); elements 16(-0) - Not reduced\n",
      "Problem not reduced by presolve: solving the LP\n",
      "Using EKK dual simplex solver - serial\n",
      "  Iteration        Objective     Infeasibilities num(sum)\n",
      "          0    -6.8399954211e+02 Ph1: 4(16.58); Du: 4(684) 0s\n",
      "          2     8.3000000000e+04 Pr: 0(0) 0s\n",
      "Model   status      : Optimal\n",
      "Simplex   iterations: 2\n",
      "Objective value     :  8.3000000000e+04\n",
      "HiGHS run time      :          0.00\n"
     ]
    }
   ],
   "source": [
    "optimize!(model)"
   ]
  },
  {
   "cell_type": "code",
   "execution_count": 9,
   "metadata": {},
   "outputs": [
    {
     "name": "stdout",
     "output_type": "stream",
     "text": [
      " x1 =0.0\n",
      " x2 =2000.0\n",
      " x3 =0.0\n",
      " x4 =0.0\n",
      "z = 83000.0"
     ]
    }
   ],
   "source": [
    "print(\" x1 =\", value(x1), \"\\n x2 =\", value(x2), \"\\n x3 =\", value(x3), \"\\n x4 =\", value(x4))\n",
    "\n",
    "print(\"\\nz = \", objective_value(model))"
   ]
  }
 ],
 "metadata": {
  "kernelspec": {
   "display_name": "Julia 1.10.5",
   "language": "julia",
   "name": "julia-1.10"
  },
  "language_info": {
   "file_extension": ".jl",
   "mimetype": "application/julia",
   "name": "julia",
   "version": "1.10.5"
  }
 },
 "nbformat": 4,
 "nbformat_minor": 2
}
